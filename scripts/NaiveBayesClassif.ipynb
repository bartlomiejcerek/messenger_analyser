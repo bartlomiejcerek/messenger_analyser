{
 "cells": [
  {
   "cell_type": "markdown",
   "metadata": {},
   "source": [
    "# Naive Bayes - Who Wrote That?"
   ]
  },
  {
   "cell_type": "code",
   "execution_count": 2,
   "metadata": {},
   "outputs": [],
   "source": [
    "#System and my modules\n",
    "import sys\n",
    "sys.path.append(\"../tools/\")\n",
    "from colorama import Fore\n",
    "\n",
    "#Data managment\n",
    "import pandas as pd \n",
    "import numpy as np\n",
    "\n",
    "#SKlearn\n",
    "from sklearn.feature_extraction.text import TfidfVectorizer\n",
    "from sklearn.model_selection import train_test_split\n",
    "from sklearn.feature_selection import SelectPercentile, f_classif\n",
    "from sklearn.metrics import accuracy_score\n",
    "from sklearn.metrics import confusion_matrix\n",
    "\n",
    "from sklearn.naive_bayes import MultinomialNB\n",
    "\n",
    "#For preprocesing\n",
    "import string\n",
    "import re\n",
    "\n",
    "#Visualization \n",
    "import seaborn as sns\n",
    "import matplotlib.pyplot as plt \n",
    "\n",
    "#Requires manual download pip install pystempel\n",
    "from stempel import StempelStemmer\n",
    "\n",
    "#Natural language processing tool\n",
    "import nltk\n",
    "from nltk.corpus import stopwords\n",
    "\n",
    "### MY TOOLS FOR MINING CONVERSATIONS ###\n",
    "import MessFileReader as mfr"
   ]
  },
  {
   "cell_type": "markdown",
   "metadata": {},
   "source": [
    "## Set Parameters and Get Data"
   ]
  },
  {
   "cell_type": "code",
   "execution_count": 3,
   "metadata": {},
   "outputs": [],
   "source": [
    "#Set conv ID, it is name of folder in which message_1.json file is located\n",
    "#conv_id = '!ExampleConv'\n",
    "conv_id = '!ExampleGroup'\n",
    "#Minimum number of words message has to have to be taken into account\n",
    "min_no_words = 10"
   ]
  },
  {
   "cell_type": "code",
   "execution_count": 4,
   "metadata": {},
   "outputs": [
    {
     "name": "stdout",
     "output_type": "stream",
     "text": [
      "Messages longer than 10 words: 9925\n",
      "\n"
     ]
    }
   ],
   "source": [
    "#Create utility objects from conversation \n",
    "conv = mfr.readFile('../data/' + conv_id)\n",
    "conv_params = mfr.getConvInfo(conv)\n",
    "messages = mfr.getMessages(conv, ignore_quiters = True)\n",
    "messages = [mess for mess in messages if 'content' in mess.keys()] #Filter out lack of content\n",
    "messages = [mess for mess in messages if len(mess['content'].split()) > min_no_words]\n",
    "print('Messages longer than {} words: {}\\n'.format(min_no_words, len(messages)))   "
   ]
  },
  {
   "cell_type": "markdown",
   "metadata": {},
   "source": [
    "## Prepare Data Frame For Classification\n",
    "To have efficient classification it is generally good to have balanced dataset."
   ]
  },
  {
   "cell_type": "code",
   "execution_count": 5,
   "metadata": {},
   "outputs": [
    {
     "name": "stdout",
     "output_type": "stream",
     "text": [
      "Original counts:\n",
      "Bartłomiej Cerek    3356\n",
      "Example Person3     3351\n",
      "Example Person1     1342\n",
      "Example Person4      941\n",
      "Example Person2      935\n",
      "Name: name, dtype: int64\n",
      "\n",
      "Balanced counts:\n",
      "Example Person4     935\n",
      "Example Person1     935\n",
      "Example Person2     935\n",
      "Example Person3     935\n",
      "Bartłomiej Cerek    935\n",
      "Name: name, dtype: int64\n"
     ]
    }
   ],
   "source": [
    "df_orgin = []\n",
    "for mess in messages:\n",
    "    df_orgin.append((mess['content'], mess['sender_name'],))\n",
    "\n",
    "df = pd.DataFrame(df_orgin, columns = ['text','name']) \n",
    "print('Original counts:')\n",
    "cts = df['name'].value_counts()\n",
    "min_messages = cts.min()\n",
    "participants = cts.index.tolist()\n",
    "print(cts)\n",
    "\n",
    "#Get indices of messages of each participant\n",
    "indices = []\n",
    "for part in participants:\n",
    "    all_inds = df.index[df['name'] == part]\n",
    "    #Take amount of smallest number of messages and append indices\n",
    "    indices.extend(np.random.choice(all_inds, min_messages, replace=False).tolist())\n",
    "\n",
    "#Balance Data \n",
    "data = df.loc[indices] #Get only \n",
    "print('\\nBalanced counts:')\n",
    "print(data['name'].value_counts())\n",
    "\n",
    "#Define features and labels \n",
    "features = data['text'].tolist()\n",
    "labels = data['name'].tolist()"
   ]
  },
  {
   "cell_type": "code",
   "execution_count": 6,
   "metadata": {},
   "outputs": [
    {
     "name": "stdout",
     "output_type": "stream",
     "text": [
      "Number of training samples: 3740\n",
      "Number of test samples: 935\n"
     ]
    }
   ],
   "source": [
    "#Split train/test \n",
    "X_train_raw, X_test_raw, y_train, y_test = train_test_split(features, labels, stratify = labels, test_size=0.2)\n",
    "\n",
    "print('Number of training samples: {}'.format(len(X_train_raw)))\n",
    "print('Number of test samples: {}'.format(len(X_test_raw)))"
   ]
  },
  {
   "cell_type": "markdown",
   "metadata": {},
   "source": [
    "## Define Preprocessing Function\n",
    "Before words will be fed to classifier they have to be processed. Polish language is quite irregular and contains many form of words so **stemmer** will be used to convert words to their basic forms. Also **stop words**, so common words without important meaning, will be deleted.\n",
    "\n",
    "Unfortunatly used stemmer has very low accuracy. With English results are way better."
   ]
  },
  {
   "cell_type": "code",
   "execution_count": 7,
   "metadata": {},
   "outputs": [],
   "source": [
    "stopwordspl = set(stopwords.words('polish.txt'))\n",
    "stemmer = StempelStemmer.default()\n",
    "\n",
    "def preprocesString(txt):\n",
    "    #Use stemming? Parameter not to be set by user, purposly not parameter.\n",
    "    stem_on = True\n",
    "    \n",
    "    #Remove punctuation\n",
    "    txt = txt.translate(str.maketrans(\"\", \"\", string.punctuation)).lower()\n",
    "    #Remove single chars \n",
    "    txt = re.sub(r\"\\b[a-zA-Z]\\b\", \"\", txt)\n",
    "    #Remove numbers \n",
    "    txt = re.sub(\"[\\d+]\", \"\", txt)\n",
    "    \n",
    "    #Tokenize\n",
    "    tokens = nltk.word_tokenize(txt)\n",
    "    tokens = [w for w in tokens if not w in stopwordspl] #Filter from stopwords\n",
    "    tokens = [w.encode('ascii', 'ignore').decode('ascii') for w in tokens] #Filter from emoji\n",
    "    tokens = [w for w in tokens if w != ''] #Filter from empty\n",
    "    tokens = [w for w in tokens if w[:4] != 'http'] #Filter http requests\n",
    "    \n",
    "    #Name change before stemming in case stemming is off\n",
    "    output = tokens\n",
    "    \n",
    "    #Stem\n",
    "    if stem_on:\n",
    "        output = []\n",
    "        for t in tokens:\n",
    "            t_stemmed = stemmer.stem(t)\n",
    "            if t_stemmed is None or len(t_stemmed) < 3:\n",
    "                output.append(t)\n",
    "            else:\n",
    "                output.append(t_stemmed)\n",
    "        \n",
    "    return output"
   ]
  },
  {
   "cell_type": "markdown",
   "metadata": {},
   "source": [
    "## Create TfIdf Vector From Messages"
   ]
  },
  {
   "cell_type": "code",
   "execution_count": 8,
   "metadata": {},
   "outputs": [
    {
     "name": "stdout",
     "output_type": "stream",
     "text": [
      "Vocabulary lenght: 10625\n"
     ]
    }
   ],
   "source": [
    "#Vectorize messages, use preprocessing function.\n",
    "vect = TfidfVectorizer(sublinear_tf=True,analyzer = preprocesString)\n",
    "X_train_transf = vect.fit_transform(X_train_raw)\n",
    "X_test_transf  = vect.transform(X_test_raw)\n",
    "\n",
    "#See how big is vocabulay of conversation.\n",
    "vocab = vect.get_feature_names()\n",
    "print('Vocabulary lenght: {}'.format(len(vocab)))"
   ]
  },
  {
   "cell_type": "code",
   "execution_count": 9,
   "metadata": {},
   "outputs": [
    {
     "name": "stdout",
     "output_type": "stream",
     "text": [
      "Features left after reduction: 1594\n"
     ]
    }
   ],
   "source": [
    "#Delete some features that seem redundant to speed up learning.\n",
    "selector = SelectPercentile(f_classif, percentile=15)\n",
    "selector.fit(X_train_transf, y_train)\n",
    "X_train_transf_sel = selector.transform(X_train_transf)\n",
    "X_test_transf_sel  = selector.transform(X_test_transf)\n",
    "\n",
    "print('Features left after reduction: {}'.format(X_train_transf_sel.shape[1]))"
   ]
  },
  {
   "cell_type": "markdown",
   "metadata": {},
   "source": [
    "## Perform and Evaluate Classification.\n",
    "\n",
    "Naive Bayes classifier will be used."
   ]
  },
  {
   "cell_type": "code",
   "execution_count": 10,
   "metadata": {},
   "outputs": [
    {
     "name": "stdout",
     "output_type": "stream",
     "text": [
      "Accuracy: 45.99%\n"
     ]
    },
    {
     "data": {
      "image/png": "[encoded data removed]",
      "text/plain": [
       "<Figure size 800x600 with 2 Axes>"
      ]
     },
     "metadata": {
      "needs_background": "light"
     },
     "output_type": "display_data"
    }
   ],
   "source": [
    "#Classification time baby \n",
    "X_train = X_train_transf_sel.toarray()\n",
    "X_test = X_test_transf_sel.toarray()\n",
    "\n",
    "clasif = MultinomialNB()\n",
    "clasif.fit(X_train, y_train)\n",
    "pred = clasif.predict(X_test)\n",
    "acc = accuracy_score(pred, y_test)\n",
    "cm = confusion_matrix(y_test, pred, labels = participants)\n",
    "f = np.sum(cm, axis =1) # scaling factor\n",
    "cm = cm / f *100\n",
    "\n",
    "#Visualization\n",
    "print('Accuracy: {:.2f}%'.format(acc*100))\n",
    "\n",
    "fig, ax = plt.subplots(figsize=(8,6), dpi = 100)\n",
    "ax = sns.heatmap(cm, annot=True, ax = ax, fmt='.2f'); #annot=True to annotate cells\n",
    "\n",
    "# labels, title and ticks\n",
    "sur_names = [part.split()[1] for part in participants]\n",
    "ax.set_xlabel('Predicted labels')\n",
    "ax.set_ylabel('True labels') \n",
    "ax.set_title('Confusion Matrix') \n",
    "ax.xaxis.set_ticklabels(sur_names)\n",
    "ax.yaxis.set_ticklabels(sur_names);\n",
    "\n",
    "for t in ax.texts: t.set_text(t.get_text()  + \" %\")"
   ]
  },
  {
   "cell_type": "code",
   "execution_count": 11,
   "metadata": {},
   "outputs": [],
   "source": [
    "#Examples\n",
    "\n",
    "# ind_corr = np.where(pred == y_test)[0]\n",
    "# ind_wrng = np.where(~(pred == y_test))[0]\n",
    "\n",
    "# #Print correct\n",
    "# print(Fore.GREEN)\n",
    "# for i in np.random.choice(ind_corr, 3, replace=False):\n",
    "#     print(pred[i])\n",
    "#     print(X_test_raw[i], '\\n')\n",
    "    \n",
    "# print(Fore.RED)\n",
    "# for i in np.random.choice(ind_wrng, 3, replace=False):\n",
    "#     print(pred[i])\n",
    "#     print(X_test_raw[i], '\\n')\n"
   ]
  }
 ],
 "metadata": {
  "kernelspec": {
   "display_name": "Python 3",
   "language": "python",
   "name": "python3"
  },
  "language_info": {
   "codemirror_mode": {
    "name": "ipython",
    "version": 3
   },
   "file_extension": ".py",
   "mimetype": "text/x-python",
   "name": "python",
   "nbconvert_exporter": "python",
   "pygments_lexer": "ipython3",
   "version": "3.7.3"
  }
 },
 "nbformat": 4,
 "nbformat_minor": 2
}
