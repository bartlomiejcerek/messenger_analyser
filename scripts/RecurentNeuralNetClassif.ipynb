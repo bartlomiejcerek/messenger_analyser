{
 "cells": [
  {
   "cell_type": "code",
   "execution_count": 0,
   "metadata": {
    "colab": {},
    "colab_type": "code",
    "id": "40_2Y4nqGEHp"
   },
   "outputs": [],
   "source": [
    "# Colab extras\n",
    "# %%capture\n",
    "# !7z x group.7z\n",
    "# !pip install colorama\n",
    "# !pip install matplotlib==3.1.0 #Downgread matplotlib to use seaborn heatmap (broken for 3.1.1)"
   ]
  },
  {
   "cell_type": "markdown",
   "metadata": {
    "colab_type": "text",
    "id": "okhY-kuFFUJu"
   },
   "source": [
    "# Recurent Neural Network - Who Wrote That?"
   ]
  },
  {
   "cell_type": "code",
   "execution_count": 0,
   "metadata": {
    "colab": {},
    "colab_type": "code",
    "id": "DuQHB1dEFUJy"
   },
   "outputs": [],
   "source": [
    "#System and my modules\n",
    "import sys\n",
    "\n",
    "#Data managment\n",
    "import pandas as pd \n",
    "import numpy as np\n",
    "\n",
    "#SKlearn\n",
    "from sklearn.model_selection import train_test_split\n",
    "from sklearn.feature_selection import SelectPercentile, f_classif\n",
    "from sklearn.metrics import accuracy_score\n",
    "from sklearn.metrics import confusion_matrix\n",
    "\n",
    "#PyTorch\n",
    "import torch\n",
    "from torch.utils.data import TensorDataset, DataLoader\n",
    "import torch.nn as nn\n",
    "import torch.nn.functional as F\n",
    "\n",
    "#For preprocesing\n",
    "import string\n",
    "from collections import Counter\n",
    "from operator import itemgetter\n",
    "\n",
    "#Visualization \n",
    "import seaborn as sns\n",
    "import matplotlib.pyplot as plt \n",
    "\n",
    "### MY TOOLS FOR MINING CONVERSATIONS ###\n",
    "import MessFileReader as mfr"
   ]
  },
  {
   "cell_type": "markdown",
   "metadata": {
    "colab_type": "text",
    "id": "col_--QMFUJ1"
   },
   "source": [
    "## Set Parametes and Get Data"
   ]
  },
  {
   "cell_type": "code",
   "execution_count": 0,
   "metadata": {
    "colab": {},
    "colab_type": "code",
    "id": "plV6nZ_5FUJ2"
   },
   "outputs": [],
   "source": [
    "#Set conv ID, it is name of folder in which message_1.json file is located\n",
    "conv_id = '!ExampleGroup'\n",
    "#Minimum number of words message has to have to be taken into account\n",
    "min_no_words = 15\n",
    "#Maximum no words, important to define size of neural net\n",
    "max_no_words = 50\n",
    "\n",
    "#Split train/test \n",
    "split_frac = 0.8 # 80% train 10% val 10% test\n",
    "\n",
    "# dataloaders\n",
    "batch_size = 8\n",
    "\n",
    "# Instantiate the model\n",
    "embedding_dim = 400\n",
    "hidden_dim = 256\n",
    "n_layers = 1\n",
    "\n",
    "#Learning rate - learning will be fast\n",
    "lr=0.00005\n",
    "\n",
    "# training params\n",
    "epochs = 30\n",
    "valid_every = 50 #After how many batches validate?\n",
    "clip = 5 # gradient clipping, when gradients go out of control"
   ]
  },
  {
   "cell_type": "code",
   "execution_count": 967,
   "metadata": {
    "colab": {
     "base_uri": "https://localhost:8080/",
     "height": 51
    },
    "colab_type": "code",
    "id": "ELnBA1yFFUJ5",
    "outputId": "c1f1c045-29cb-46e2-dbfc-e0bba2461c2d"
   },
   "outputs": [
    {
     "name": "stdout",
     "output_type": "stream",
     "text": [
      "Messages longer than 15 words and shorter than 50: 3837\n",
      "\n"
     ]
    }
   ],
   "source": [
    "#Create utility objects from conversation \n",
    "conv = mfr.readFile(conv_id)\n",
    "conv_params = mfr.getConvInfo(conv)\n",
    "messages = mfr.getMessages(conv, ignore_quiters = True)\n",
    "\n",
    "messages = [mess for mess in messages if 'content' in mess.keys()] #Filter out lack of content\n",
    "r = range(min_no_words, max_no_words) #Range in which length has to be placed\n",
    "messages = [mess for mess in messages if len(mess['content'].split()) in r]\n",
    "print('Messages longer than {} words and shorter than {}: {}\\n'.format(min_no_words, max_no_words, len(messages))) "
   ]
  },
  {
   "cell_type": "markdown",
   "metadata": {
    "colab_type": "text",
    "id": "trKx1xFtFUJ8"
   },
   "source": [
    "## Prepare Data Frame for Classification and Preprocess"
   ]
  },
  {
   "cell_type": "code",
   "execution_count": 968,
   "metadata": {
    "colab": {
     "base_uri": "https://localhost:8080/",
     "height": 272
    },
    "colab_type": "code",
    "id": "63ec_7tHFUJ8",
    "outputId": "5bd52638-2163-4e6e-e224-20c5a5ac9571"
   },
   "outputs": [
    {
     "name": "stdout",
     "output_type": "stream",
     "text": [
      "Original counts:\n",
      "Bartłomiej Cerek    1455\n",
      "Example Person3     1298\n",
      "Example Person1      501\n",
      "Example Person2      340\n",
      "Example Person4      243\n",
      "Name: name, dtype: int64\n",
      "\n",
      "Balanced counts:\n",
      "Bartłomiej Cerek    243\n",
      "Example Person4     243\n",
      "Example Person2     243\n",
      "Example Person1     243\n",
      "Example Person3     243\n",
      "Name: name, dtype: int64\n"
     ]
    }
   ],
   "source": [
    "df_orgin = []\n",
    "for mess in messages:\n",
    "    df_orgin.append((mess['content'], mess['sender_name'],))\n",
    "\n",
    "df = pd.DataFrame(df_orgin, columns = ['text','name']) \n",
    "print('Original counts:')\n",
    "cts = df['name'].value_counts()\n",
    "min_messages = cts.min()\n",
    "participants = cts.index.tolist()\n",
    "output_size = len(participants)\n",
    "print(cts)\n",
    "\n",
    "#Get indices of messages of each participant\n",
    "indices = []\n",
    "for part in participants:\n",
    "    all_inds = df.index[df['name'] == part]\n",
    "    #Take amount of smallest number of messages and append indices\n",
    "    indices.extend(np.random.choice(all_inds, min_messages, replace=False).tolist())\n",
    "\n",
    "#Balance Data \n",
    "data = df.loc[indices] #Get only \n",
    "print('\\nBalanced counts:')\n",
    "print(data['name'].value_counts())\n",
    "\n",
    "#Define features and labels \n",
    "messages_raw = data['text'].tolist()\n",
    "labels_raw = data['name'].tolist()"
   ]
  },
  {
   "cell_type": "markdown",
   "metadata": {
    "colab_type": "text",
    "id": "g9mtcbFTFUJ_"
   },
   "source": [
    "### Preprocess\n",
    "- Categorical to numeric\n",
    "- All to lowercase \n",
    "- Delete interpunction\n",
    "- Split to words \n",
    "- Delte suspicious +15 characters long words (links, hahahas, etc) \n",
    "\n",
    "Also create list of all words to then count them and create vocabulary."
   ]
  },
  {
   "cell_type": "code",
   "execution_count": 0,
   "metadata": {
    "colab": {},
    "colab_type": "code",
    "id": "9RhFOfL5FUJ_",
    "scrolled": true
   },
   "outputs": [],
   "source": [
    "#One-liner to make quickly numerical vector, then One Hot Encode\n",
    "category_labels = pd.Series(labels_raw).astype('category')\n",
    "classes = category_labels.dtype.categories.to_list()\n",
    "\n",
    "labels = category_labels.cat.codes.to_numpy(dtype='int32')\n",
    "labels_onehot = np.zeros((len(labels), output_size))\n",
    "labels_onehot[np.arange(len(labels)), labels] = 1\n",
    "\n",
    "#Preprocess features\n",
    "messages_tokenized = []\n",
    "words = []\n",
    "for mess in messages_raw:\n",
    "    mess = mess.lower() #To lower\n",
    "    mess = ''.join([c for c in mess if c not in string.punctuation]) #Delete punctuaion \n",
    "    mess = mess.split() #split for tokens\n",
    "    mess = [w for w in mess if len(w) < 15] #filterout strangely long words\n",
    "    messages_tokenized.append(mess) #Add to messages tokenized\n",
    "    words.extend(mess) #List of all words in messages"
   ]
  },
  {
   "cell_type": "markdown",
   "metadata": {
    "colab_type": "text",
    "id": "NplZyu4eFUKB"
   },
   "source": [
    "### Transform features \n",
    "Change features to numerical vectors of same length, to be able to pass them through the network."
   ]
  },
  {
   "cell_type": "code",
   "execution_count": 0,
   "metadata": {
    "colab": {},
    "colab_type": "code",
    "id": "VIGASF4sFUKC"
   },
   "outputs": [],
   "source": [
    "#Build a dictionary that maps words to integers\n",
    "vocab_to_int = {}\n",
    "words_rank = Counter(words).most_common()\n",
    "for i, (word, _) in enumerate(words_rank):\n",
    "    vocab_to_int[word] = i+1\n",
    "\n",
    "# use the dict to tokenize each review in reviews_split\n",
    "features_ints = []\n",
    "for mess in messages_tokenized:\n",
    "    tokens = [vocab_to_int[word] for word in mess]\n",
    "    features_ints.append(tokens)"
   ]
  },
  {
   "cell_type": "code",
   "execution_count": 971,
   "metadata": {
    "colab": {
     "base_uri": "https://localhost:8080/",
     "height": 221
    },
    "colab_type": "code",
    "id": "0L3woWQvFUKE",
    "outputId": "f4cf1f0c-ba33-4a54-f7be-3cf4ed3f1576"
   },
   "outputs": [
    {
     "name": "stdout",
     "output_type": "stream",
     "text": [
      "Unique words:  7148\n",
      "Ten most popular words:\n"
     ]
    },
    {
     "data": {
      "text/plain": [
       "[('i', 757),\n",
       " ('to', 667),\n",
       " ('w', 632),\n",
       " ('nie', 597),\n",
       " ('na', 542),\n",
       " ('z', 418),\n",
       " ('jak', 319),\n",
       " ('że', 299),\n",
       " ('xd', 280),\n",
       " ('się', 279)]"
      ]
     },
     "execution_count": 971,
     "metadata": {
      "tags": []
     },
     "output_type": "execute_result"
    }
   ],
   "source": [
    "#No words\n",
    "print('Unique words: ', len(vocab_to_int))\n",
    "#Most popular words\n",
    "print('Ten most popular words:')\n",
    "words_rank[:10]"
   ]
  },
  {
   "cell_type": "code",
   "execution_count": 0,
   "metadata": {
    "colab": {},
    "colab_type": "code",
    "id": "I0XPpQFIFUKH"
   },
   "outputs": [],
   "source": [
    "#Function for padding\n",
    "def pad_features(features_ints, seq_length):\n",
    "    ''' Return features of features_ints, where each message is padded with 0's.\n",
    "    '''\n",
    "    features=[]\n",
    "    for rev in features_ints:\n",
    "        if len(rev) < seq_length:\n",
    "            diff = seq_length - len(rev)\n",
    "            zeros = [0 for i in range(diff)]\n",
    "            features.append(zeros+rev)\n",
    "        else:\n",
    "            features.append(rev)\n",
    "    features = np.array(features)\n",
    "    return features"
   ]
  },
  {
   "cell_type": "code",
   "execution_count": 973,
   "metadata": {
    "colab": {
     "base_uri": "https://localhost:8080/",
     "height": 272
    },
    "colab_type": "code",
    "id": "vaKKhGisFUKI",
    "outputId": "4b91e436-1f9a-43cb-fd8c-f9517f5bda4b"
   },
   "outputs": [
    {
     "name": "stdout",
     "output_type": "stream",
     "text": [
      "Features: \n",
      " [[   0    0    0    0    0    0    0  240    8    4   27   88    3 1035\n",
      "     3 1870   16 1871   18  703    7    2    4 1872   10 1873   51   19\n",
      "    40 1874   23   31   44  191   38  456   13   53   23  704  241  547\n",
      "    43   99   23 1875   14   49  705 1876]\n",
      " [   0    0    0    0    0    0    0    0    0    0    0    0    0    0\n",
      "     0    0    0    0    0    0    0    0    0    0    0    0    0    0\n",
      "     0    0    0 1036   11   27 1877    1 1878   26   16 1879  548    7\n",
      "    63  354  549   50   80    4   37  163]\n",
      " [   0    0    0    0    0    0    0    0    0    0    0    0    0    0\n",
      "     0    0    0    0    0    0    0    0    0    0    0    0    0    0\n",
      "     0    0    0    0    0    0    0 1880    9    4   91 1881 1882    6\n",
      "  1883 1037   17 1884  706   16   26 1885]]\n",
      "Labels: \n",
      " [0 0 0]\n"
     ]
    }
   ],
   "source": [
    "#Pad features to be same length and transform to numpy \n",
    "features = pad_features(features_ints, seq_length=max_no_words)\n",
    "\n",
    "print('Features: \\n', features[:3])\n",
    "print('Labels: \\n', labels[:3])"
   ]
  },
  {
   "cell_type": "markdown",
   "metadata": {
    "colab_type": "text",
    "id": "yI6NSi3OFUKL"
   },
   "source": [
    "## Split Data and create Loaders"
   ]
  },
  {
   "cell_type": "code",
   "execution_count": 974,
   "metadata": {
    "colab": {
     "base_uri": "https://localhost:8080/",
     "height": 68
    },
    "colab_type": "code",
    "id": "wRg7LLKaFUKL",
    "outputId": "6797e755-d309-4dfb-9deb-3dbf61f95425"
   },
   "outputs": [
    {
     "name": "stdout",
     "output_type": "stream",
     "text": [
      "(972, 50)\n",
      "(122, 50)\n",
      "(121, 50)\n"
     ]
    }
   ],
   "source": [
    "## split data into training, validation, and test data\n",
    "X_train, X_test_val, y_train, y_test_val = train_test_split(features, labels_onehot, test_size=1-split_frac, stratify=labels_onehot)\n",
    "X_val, X_test, y_val, y_test = train_test_split(X_test_val, y_test_val, test_size=0.5, stratify=y_test_val)\n",
    "\n",
    "## print out the shapes of resultant feature data\n",
    "print(X_train.shape)\n",
    "print(X_test.shape)\n",
    "print(X_val.shape)"
   ]
  },
  {
   "cell_type": "code",
   "execution_count": 0,
   "metadata": {
    "colab": {},
    "colab_type": "code",
    "id": "rqZD4wLvFUKN"
   },
   "outputs": [],
   "source": [
    "# create Tensor datasets\n",
    "train_data = TensorDataset(torch.from_numpy(X_train), torch.from_numpy(y_train))\n",
    "valid_data = TensorDataset(torch.from_numpy(X_test), torch.from_numpy(y_test))\n",
    "test_data = TensorDataset(torch.from_numpy(X_val), torch.from_numpy(y_val))\n",
    "\n",
    "#Create loader, shuffle data, drop last incomplete batch \n",
    "train_loader = DataLoader(train_data, shuffle=True, batch_size=batch_size, drop_last = True)\n",
    "valid_loader = DataLoader(valid_data, shuffle=True, batch_size=batch_size, drop_last = True)\n",
    "test_loader = DataLoader(test_data, shuffle=True, batch_size=batch_size, drop_last = True)"
   ]
  },
  {
   "cell_type": "code",
   "execution_count": 976,
   "metadata": {
    "colab": {
     "base_uri": "https://localhost:8080/",
     "height": 918
    },
    "colab_type": "code",
    "id": "w8AdjuqYFUKQ",
    "outputId": "784f4252-92eb-4980-a47d-b4e00e0788a4"
   },
   "outputs": [
    {
     "name": "stdout",
     "output_type": "stream",
     "text": [
      "Sample input size:  torch.Size([8, 50])\n",
      "Sample input: \n",
      " tensor([[   0,    0,    0,    0,    0,    0,    0,    0,    0,    0,    0,    0,\n",
      "            0,    0,    0,    0,    0,    0,    0,    0,    0,    0,    0,    0,\n",
      "            0,    0,    0,    0,    0,    0,    0,    0,    0,    0,  105, 1411,\n",
      "          219,   61,   24,  281,  808,    1, 1411, 1412, 3447,   58,    5,    2,\n",
      "          666,    9],\n",
      "        [   0,    0,    0,    0,    0,    0,    0,    0,    0,    0,    0,    0,\n",
      "            0,    0,    0,    0,    0,    0,    0,    0,    0,    0,   29,   43,\n",
      "           69,  572,  743, 2637,    6, 1226,    6,  335,    1,    6,  420,  355,\n",
      "           17,   92,   11,    3,  806,    6,  251,  807,  370, 2638,   15,   83,\n",
      "           22, 2639],\n",
      "        [   0,    0,    0,    0,    0,    0,    0,    0,    0,    0,    0,    0,\n",
      "            0,    0,    0,    0,    0,    0,    0,    0,    0,   20,    1,   19,\n",
      "           49, 4445,   16, 4446,  467, 4447,  285, 4448,   25, 4449, 4450,    5,\n",
      "         1069,    1,  211,  189, 4451,    7,  266,   10, 1614, 1613,    5, 4452,\n",
      "            5, 4453],\n",
      "        [   0,    0,    0,    0,    0,    0,    0,    0,    0,    0,    0,    0,\n",
      "            0,    0,    0,    0,    0,    0,    0,    0,    0,    0,    0,    0,\n",
      "            0,    0,    0,    0,    0,    0,    0,    0,    0,    0,  175,  646,\n",
      "         6449,  615, 6450,    3, 1844,    1,   44, 6451, 6452,   10, 6453,    6,\n",
      "         6454, 6455],\n",
      "        [   0,    0,    0,    0,    0,    0,    0,    0,    0,    0,    0,    0,\n",
      "            0,    0,    0,    0,    0,    0,    0,    0,    0,    0,    0,    0,\n",
      "            0,    0,    0,    0,    0,    4,  329,   15, 5546,    3, 5547,  257,\n",
      "         5548,  321,    3, 5549,    7,  374,  219,  169, 1473,   27,  228,  100,\n",
      "            3,  786],\n",
      "        [   0,    0,    0,    0,    0,    0,    0,    0,    0,    0,    0,    0,\n",
      "            0,    0,    0,    0,    0,    0,    0,    0,    0,    0,    0,    0,\n",
      "            0,    0,    0,    0,    0,    0,    0,    0,    0,   17,   98, 2640,\n",
      "           57,   68,  572,    1,  337,   33,    4, 1227, 1228,  281,   15,   99,\n",
      "           27, 2641],\n",
      "        [   0,    0,    0,    0,    0,    0,    0,    0,    0,    0,    0,    0,\n",
      "            0,    0,    0,    0,    0,    0,    0,    0,    0,    0,    0,    0,\n",
      "            0,    0,    0,    0,    0,    0,    0,    0,    0,   20,   13,  945,\n",
      "            7,  161,   27, 1021,    5,  197,  127,    2,   27,   47, 1789,   44,\n",
      "           10, 6959],\n",
      "        [   0,    0,    0,    0,    0,    0,    0,    0,    0,    0,    0,    0,\n",
      "            0,    0,    0,    0,    0,    0,    0,    0,    0,    0,    0,   20,\n",
      "            7,   60,   26,    2, 1152,   34,   13, 5409,    1,    6,  300,    1,\n",
      "            6,  300,    1, 5410,    1, 5411,    1, 5412,    1, 5413, 5414, 5415,\n",
      "         5416,    9]])\n",
      "\n",
      "Sample label size:  torch.Size([8, 5])\n",
      "Sample label: \n",
      " tensor([[0., 0., 0., 1., 0.],\n",
      "        [1., 0., 0., 0., 0.],\n",
      "        [0., 1., 0., 0., 0.],\n",
      "        [0., 0., 0., 0., 1.],\n",
      "        [0., 0., 1., 0., 0.],\n",
      "        [1., 0., 0., 0., 0.],\n",
      "        [0., 0., 0., 0., 1.],\n",
      "        [0., 0., 1., 0., 0.]], dtype=torch.float64)\n"
     ]
    }
   ],
   "source": [
    "# test\n",
    "dataiter = iter(train_loader)\n",
    "sample_x, sample_y = dataiter.next()\n",
    "\n",
    "print('Sample input size: ', sample_x.size()) # batch_size, seq_length\n",
    "print('Sample input: \\n', sample_x)\n",
    "print()\n",
    "print('Sample label size: ', sample_y.size()) # batch_size\n",
    "print('Sample label: \\n', sample_y)"
   ]
  },
  {
   "cell_type": "markdown",
   "metadata": {
    "colab_type": "text",
    "id": "sPWxFl5MFUKS"
   },
   "source": [
    "## Define Neural Network Architecture"
   ]
  },
  {
   "cell_type": "code",
   "execution_count": 0,
   "metadata": {
    "colab": {},
    "colab_type": "code",
    "id": "4L5f4bIXFUKV"
   },
   "outputs": [],
   "source": [
    "class RNN(nn.Module):\n",
    "    \"\"\"\n",
    "    The RNN model that will be used to perform analysis.\n",
    "    \"\"\"\n",
    "    def __init__(self, vocab_size, output_size, embedding_dim, hidden_dim, n_layers, drop_prob=0.5):\n",
    "        \"\"\"\n",
    "        Initialize the model by setting up the layers.\n",
    "        \"\"\"\n",
    "        #Model variables\n",
    "        super(RNN, self).__init__()\n",
    "        self.output_size = output_size\n",
    "        self.n_layers = n_layers\n",
    "        self.hidden_dim = hidden_dim\n",
    "        \n",
    "        #Layers\n",
    "        self.embed = nn.Embedding(vocab_size, embedding_dim) #Words embedding\n",
    "        self.lstm = nn.LSTM(embedding_dim, hidden_dim, n_layers, dropout=drop_prob, batch_first=True) #Long short term memory\n",
    "        self.fc1 = nn.Linear(hidden_dim, 100) #Fully connected\n",
    "        self.fc2 = nn.Linear(100, output_size) #Fully connected\n",
    "        self.dropout = nn.Dropout(0.4) # Dropout of fully connected\n",
    "\n",
    "    def forward(self, x, hidden):\n",
    "        \"\"\"\n",
    "        Perform a forward pass of our model on some input and hidden state.\n",
    "        \"\"\"\n",
    "        batch_size = x.shape[0]\n",
    "\n",
    "        x_embed = self.embed(x)\n",
    "        lstm_out, hidden = self.lstm(x_embed, hidden)\n",
    "\n",
    "        lstm_out = lstm_out.contiguous().view(-1, self.hidden_dim)\n",
    "        lstm_out = self.dropout(lstm_out)\n",
    "\n",
    "        fc1_out = self.dropout(torch.sigmoid(self.fc1(lstm_out)))\n",
    "\n",
    "        sig_out = torch.sigmoid(self.fc2(fc1_out))\n",
    "        \n",
    "        # reshape to be batch_size first\n",
    "        sig_out = sig_out.view(batch_size, -1, self.output_size)\n",
    "        sig_out = sig_out[:, -1] # get last batch of labels\n",
    "\n",
    "        return sig_out, hidden\n",
    "    \n",
    "    def init_hidden(self, batch_size):\n",
    "        \"\"\"\n",
    "        Initializes hidden state \n",
    "        \"\"\"\n",
    "        # Create two new tensors with sizes n_layers x batch_size x hidden_dim,\n",
    "        # initialized to zero, for hidden state and cell state of LSTM\n",
    "        # No clue WTF\n",
    "        weight = next(self.parameters()).data\n",
    "        if (device == 'cuda'):\n",
    "            hidden = (weight.new(self.n_layers, batch_size, self.hidden_dim).zero_().cuda(),\n",
    "                  weight.new(self.n_layers, batch_size, self.hidden_dim).zero_().cuda())\n",
    "        else:\n",
    "            hidden = (weight.new(self.n_layers, batch_size, self.hidden_dim).zero_(),\n",
    "                      weight.new(self.n_layers, batch_size, self.hidden_dim).zero_())\n",
    "        return hidden\n",
    "        "
   ]
  },
  {
   "cell_type": "markdown",
   "metadata": {
    "colab_type": "text",
    "id": "W053XRcUH7L_"
   },
   "source": [
    "## Create Network Instance"
   ]
  },
  {
   "cell_type": "code",
   "execution_count": 978,
   "metadata": {
    "colab": {
     "base_uri": "https://localhost:8080/",
     "height": 34
    },
    "colab_type": "code",
    "id": "U3oTXZdOFUKT",
    "outputId": "e23b2dba-bfc5-4a4b-aee5-d9807a33c1e1"
   },
   "outputs": [
    {
     "name": "stdout",
     "output_type": "stream",
     "text": [
      "cuda\n"
     ]
    }
   ],
   "source": [
    "# Check if GPU aviable\n",
    "device = 'cuda' if torch.cuda.is_available() else 'cpu'\n",
    "print(device)"
   ]
  },
  {
   "cell_type": "code",
   "execution_count": 979,
   "metadata": {
    "colab": {
     "base_uri": "https://localhost:8080/",
     "height": 190
    },
    "colab_type": "code",
    "id": "HT7q4jocIBHm",
    "outputId": "90abbe1f-6dd1-4457-8360-9763571a99ea"
   },
   "outputs": [
    {
     "name": "stdout",
     "output_type": "stream",
     "text": [
      "RNN(\n",
      "  (embed): Embedding(7149, 400)\n",
      "  (lstm): LSTM(400, 256, batch_first=True, dropout=0.5)\n",
      "  (fc1): Linear(in_features=256, out_features=100, bias=True)\n",
      "  (fc2): Linear(in_features=100, out_features=5, bias=True)\n",
      "  (dropout): Dropout(p=0.4, inplace=False)\n",
      ")\n"
     ]
    },
    {
     "name": "stderr",
     "output_type": "stream",
     "text": [
      "/usr/local/lib/python3.6/dist-packages/torch/nn/modules/rnn.py:51: UserWarning: dropout option adds dropout after all but last recurrent layer, so non-zero dropout expects num_layers greater than 1, but got dropout=0.5 and num_layers=1\n",
      "  \"num_layers={}\".format(dropout, num_layers))\n"
     ]
    }
   ],
   "source": [
    "vocab_size = len(vocab_to_int)+1 # +1 for the 0 padding \n",
    "\n",
    "net = RNN(vocab_size, output_size, embedding_dim, hidden_dim, n_layers)\n",
    "net.to(device)\n",
    "\n",
    "print(net)"
   ]
  },
  {
   "cell_type": "code",
   "execution_count": 0,
   "metadata": {
    "colab": {},
    "colab_type": "code",
    "id": "j6KA9oYKIjUF"
   },
   "outputs": [],
   "source": [
    "#Loss function and optimizer\n",
    "criterion = nn.BCELoss()\n",
    "optimizer = torch.optim.Adam(net.parameters(), lr=lr)"
   ]
  },
  {
   "cell_type": "markdown",
   "metadata": {
    "colab_type": "text",
    "id": "SqauATICIri_"
   },
   "source": [
    "## Train the Network\n",
    "Define validation function that will be called after set number of batches.\\\n",
    "We validate few times in epoch since learning will be quite fast and using small batches is most effective. \\\n",
    "Then train network as usual."
   ]
  },
  {
   "cell_type": "code",
   "execution_count": 0,
   "metadata": {
    "colab": {},
    "colab_type": "code",
    "id": "14avwfRDILGM"
   },
   "outputs": [],
   "source": [
    "# Validation function - NOT PURE! uses also batch_size, valid_loader\n",
    "\n",
    "def validate_network(net, min_val_loss, epoch, counter):\n",
    "    # Get validation loss\n",
    "    val_h = net.init_hidden(batch_size)\n",
    "    val_losses = []\n",
    "    net.eval() #Set model to evealuation\n",
    "    for inputs, labels in valid_loader:\n",
    "        # Creating new variables for the hidden state, otherwise\n",
    "        # we'd backprop through the entire training history\n",
    "        val_h = tuple([each.data for each in val_h])\n",
    "\n",
    "        #Use GPU if present\n",
    "        inputs, labels = inputs.to(device), labels.to(device)\n",
    "\n",
    "        output, val_h = net.forward(inputs, val_h)\n",
    "        val_loss = criterion(output.squeeze(), labels.float())\n",
    "        val_losses.append(val_loss.item())\n",
    "\n",
    "    avg_val_loss = np.mean(val_losses)\n",
    "    \n",
    "    print(\"Epoch: {}/{}...\".format(e+1, epochs),\n",
    "          \"Batches done: {}...\".format(counter),\n",
    "          \"Val Loss: {:.6f}\".format(avg_val_loss))\n",
    "    \n",
    "    if avg_val_loss <= min_val_loss:\n",
    "        print('Validation loss decreased ({:.6f} --> {:.6f}).  Saving model ...'.format(\n",
    "        min_val_loss,\n",
    "        avg_val_loss))\n",
    "        torch.save(net.state_dict(), 'model.pt')\n",
    "        min_val_loss = avg_val_loss\n",
    "\n",
    "    net.train() #Comeback to training\n",
    "\n",
    "    return min_val_loss"
   ]
  },
  {
   "cell_type": "code",
   "execution_count": 982,
   "metadata": {
    "colab": {
     "base_uri": "https://localhost:8080/",
     "height": 1000
    },
    "colab_type": "code",
    "id": "9fUIVy4wIu4v",
    "outputId": "cfca376c-e845-4472-c27c-60d0d257e9e4"
   },
   "outputs": [
    {
     "name": "stdout",
     "output_type": "stream",
     "text": [
      "Epoch: 1/30... Batches done: 50... Val Loss: 0.635188\n",
      "Validation loss decreased (inf --> 0.635188).  Saving model ...\n",
      "Epoch: 1/30... Batches done: 100... Val Loss: 0.611139\n",
      "Validation loss decreased (0.635188 --> 0.611139).  Saving model ...\n",
      "Epoch: 2/30... Batches done: 150... Val Loss: 0.591227\n",
      "Validation loss decreased (0.611139 --> 0.591227).  Saving model ...\n",
      "Epoch: 2/30... Batches done: 200... Val Loss: 0.574019\n",
      "Validation loss decreased (0.591227 --> 0.574019).  Saving model ...\n",
      "Epoch: 3/30... Batches done: 250... Val Loss: 0.558425\n",
      "Validation loss decreased (0.574019 --> 0.558425).  Saving model ...\n",
      "Epoch: 3/30... Batches done: 300... Val Loss: 0.546705\n",
      "Validation loss decreased (0.558425 --> 0.546705).  Saving model ...\n",
      "Epoch: 3/30... Batches done: 350... Val Loss: 0.535090\n",
      "Validation loss decreased (0.546705 --> 0.535090).  Saving model ...\n",
      "Epoch: 4/30... Batches done: 400... Val Loss: 0.522083\n",
      "Validation loss decreased (0.535090 --> 0.522083).  Saving model ...\n",
      "Epoch: 4/30... Batches done: 450... Val Loss: 0.502392\n",
      "Validation loss decreased (0.522083 --> 0.502392).  Saving model ...\n",
      "Epoch: 5/30... Batches done: 500... Val Loss: 0.499766\n",
      "Validation loss decreased (0.502392 --> 0.499766).  Saving model ...\n",
      "Epoch: 5/30... Batches done: 550... Val Loss: 0.498986\n",
      "Validation loss decreased (0.499766 --> 0.498986).  Saving model ...\n",
      "Epoch: 5/30... Batches done: 600... Val Loss: 0.498547\n",
      "Validation loss decreased (0.498986 --> 0.498547).  Saving model ...\n",
      "Epoch: 6/30... Batches done: 650... Val Loss: 0.498200\n",
      "Validation loss decreased (0.498547 --> 0.498200).  Saving model ...\n",
      "Epoch: 6/30... Batches done: 700... Val Loss: 0.497837\n",
      "Validation loss decreased (0.498200 --> 0.497837).  Saving model ...\n",
      "Epoch: 7/30... Batches done: 750... Val Loss: 0.497348\n",
      "Validation loss decreased (0.497837 --> 0.497348).  Saving model ...\n",
      "Epoch: 7/30... Batches done: 800... Val Loss: 0.497024\n",
      "Validation loss decreased (0.497348 --> 0.497024).  Saving model ...\n",
      "Epoch: 8/30... Batches done: 850... Val Loss: 0.496467\n",
      "Validation loss decreased (0.497024 --> 0.496467).  Saving model ...\n",
      "Epoch: 8/30... Batches done: 900... Val Loss: 0.495679\n",
      "Validation loss decreased (0.496467 --> 0.495679).  Saving model ...\n",
      "Epoch: 8/30... Batches done: 950... Val Loss: 0.495854\n",
      "Epoch: 9/30... Batches done: 1000... Val Loss: 0.494936\n",
      "Validation loss decreased (0.495679 --> 0.494936).  Saving model ...\n",
      "Epoch: 9/30... Batches done: 1050... Val Loss: 0.494365\n",
      "Validation loss decreased (0.494936 --> 0.494365).  Saving model ...\n",
      "Epoch: 10/30... Batches done: 1100... Val Loss: 0.493259\n",
      "Validation loss decreased (0.494365 --> 0.493259).  Saving model ...\n",
      "Epoch: 10/30... Batches done: 1150... Val Loss: 0.493506\n",
      "Epoch: 10/30... Batches done: 1200... Val Loss: 0.492035\n",
      "Validation loss decreased (0.493259 --> 0.492035).  Saving model ...\n",
      "Epoch: 11/30... Batches done: 1250... Val Loss: 0.490911\n",
      "Validation loss decreased (0.492035 --> 0.490911).  Saving model ...\n",
      "Epoch: 11/30... Batches done: 1300... Val Loss: 0.489120\n",
      "Validation loss decreased (0.490911 --> 0.489120).  Saving model ...\n",
      "Epoch: 12/30... Batches done: 1350... Val Loss: 0.487625\n",
      "Validation loss decreased (0.489120 --> 0.487625).  Saving model ...\n",
      "Epoch: 12/30... Batches done: 1400... Val Loss: 0.485551\n",
      "Validation loss decreased (0.487625 --> 0.485551).  Saving model ...\n",
      "Epoch: 12/30... Batches done: 1450... Val Loss: 0.484646\n",
      "Validation loss decreased (0.485551 --> 0.484646).  Saving model ...\n",
      "Epoch: 13/30... Batches done: 1500... Val Loss: 0.482096\n",
      "Validation loss decreased (0.484646 --> 0.482096).  Saving model ...\n",
      "Epoch: 13/30... Batches done: 1550... Val Loss: 0.479602\n",
      "Validation loss decreased (0.482096 --> 0.479602).  Saving model ...\n",
      "Epoch: 14/30... Batches done: 1600... Val Loss: 0.476381\n",
      "Validation loss decreased (0.479602 --> 0.476381).  Saving model ...\n",
      "Epoch: 14/30... Batches done: 1650... Val Loss: 0.475572\n",
      "Validation loss decreased (0.476381 --> 0.475572).  Saving model ...\n",
      "Epoch: 15/30... Batches done: 1700... Val Loss: 0.471421\n",
      "Validation loss decreased (0.475572 --> 0.471421).  Saving model ...\n",
      "Epoch: 15/30... Batches done: 1750... Val Loss: 0.469436\n",
      "Validation loss decreased (0.471421 --> 0.469436).  Saving model ...\n",
      "Epoch: 15/30... Batches done: 1800... Val Loss: 0.468882\n",
      "Validation loss decreased (0.469436 --> 0.468882).  Saving model ...\n",
      "Epoch: 16/30... Batches done: 1850... Val Loss: 0.469536\n",
      "Epoch: 16/30... Batches done: 1900... Val Loss: 0.467728\n",
      "Validation loss decreased (0.468882 --> 0.467728).  Saving model ...\n",
      "Epoch: 17/30... Batches done: 1950... Val Loss: 0.466042\n",
      "Validation loss decreased (0.467728 --> 0.466042).  Saving model ...\n",
      "Epoch: 17/30... Batches done: 2000... Val Loss: 0.464447\n",
      "Validation loss decreased (0.466042 --> 0.464447).  Saving model ...\n",
      "Epoch: 17/30... Batches done: 2050... Val Loss: 0.461954\n",
      "Validation loss decreased (0.464447 --> 0.461954).  Saving model ...\n",
      "Epoch: 18/30... Batches done: 2100... Val Loss: 0.462914\n",
      "Epoch: 18/30... Batches done: 2150... Val Loss: 0.461267\n",
      "Validation loss decreased (0.461954 --> 0.461267).  Saving model ...\n",
      "Epoch: 19/30... Batches done: 2200... Val Loss: 0.465370\n",
      "Epoch: 19/30... Batches done: 2250... Val Loss: 0.465602\n",
      "Epoch: 20/30... Batches done: 2300... Val Loss: 0.461657\n",
      "Epoch: 20/30... Batches done: 2350... Val Loss: 0.463619\n",
      "Epoch: 20/30... Batches done: 2400... Val Loss: 0.460517\n",
      "Validation loss decreased (0.461267 --> 0.460517).  Saving model ...\n",
      "Epoch: 21/30... Batches done: 2450... Val Loss: 0.462269\n",
      "Epoch: 21/30... Batches done: 2500... Val Loss: 0.462448\n",
      "Epoch: 22/30... Batches done: 2550... Val Loss: 0.462267\n",
      "Epoch: 22/30... Batches done: 2600... Val Loss: 0.462253\n",
      "Epoch: 22/30... Batches done: 2650... Val Loss: 0.465430\n",
      "Epoch: 23/30... Batches done: 2700... Val Loss: 0.460893\n",
      "Epoch: 23/30... Batches done: 2750... Val Loss: 0.465475\n",
      "Epoch: 24/30... Batches done: 2800... Val Loss: 0.457731\n",
      "Validation loss decreased (0.460517 --> 0.457731).  Saving model ...\n",
      "Epoch: 24/30... Batches done: 2850... Val Loss: 0.468688\n",
      "Epoch: 24/30... Batches done: 2900... Val Loss: 0.474313\n",
      "Epoch: 25/30... Batches done: 2950... Val Loss: 0.475528\n",
      "Epoch: 25/30... Batches done: 3000... Val Loss: 0.467993\n",
      "Epoch: 26/30... Batches done: 3050... Val Loss: 0.478757\n",
      "Epoch: 26/30... Batches done: 3100... Val Loss: 0.467086\n",
      "Epoch: 27/30... Batches done: 3150... Val Loss: 0.472395\n",
      "Epoch: 27/30... Batches done: 3200... Val Loss: 0.464966\n",
      "Epoch: 27/30... Batches done: 3250... Val Loss: 0.473093\n",
      "Epoch: 28/30... Batches done: 3300... Val Loss: 0.482607\n",
      "Epoch: 28/30... Batches done: 3350... Val Loss: 0.483371\n",
      "Epoch: 29/30... Batches done: 3400... Val Loss: 0.485157\n",
      "Epoch: 29/30... Batches done: 3450... Val Loss: 0.485528\n",
      "Epoch: 29/30... Batches done: 3500... Val Loss: 0.482699\n",
      "Epoch: 30/30... Batches done: 3550... Val Loss: 0.496729\n",
      "Epoch: 30/30... Batches done: 3600... Val Loss: 0.488088\n"
     ]
    }
   ],
   "source": [
    "### TRAINING ###\n",
    "counter = 0\n",
    "min_val_loss = np.Inf\n",
    "net.train()\n",
    "\n",
    "# train for some number of epochs\n",
    "for e in range(epochs):\n",
    "    # initialize hidden state\n",
    "    h = net.init_hidden(batch_size)\n",
    "\n",
    "    # batch loop\n",
    "    for inputs, labels in train_loader:\n",
    "        counter += 1\n",
    "\n",
    "        #Use GPU if present\n",
    "        inputs, labels = inputs.to(device), labels.to(device)\n",
    "\n",
    "        # Creating new variables for the hidden state, otherwise\n",
    "        # we'd backprop through the entire training history\n",
    "        h = tuple([each.data for each in h])\n",
    "\n",
    "        # zero accumulated gradients\n",
    "        net.zero_grad()\n",
    "\n",
    "        # get the output from the model\n",
    "        output, h = net.forward(inputs, h)\n",
    "\n",
    "        # calculate the loss and perform backprop\n",
    "        loss = criterion(output, labels.float())\n",
    "        loss.backward()\n",
    "\n",
    "        # `clip_grad_norm` helps prevent the exploding gradient problem in RNNs / LSTMs.\n",
    "        nn.utils.clip_grad_norm_(net.parameters(), clip)\n",
    "        optimizer.step()\n",
    "\n",
    "        # VALIDATION\n",
    "        if counter % valid_every == 0:\n",
    "            #Validate network and return minimal validation loss. \n",
    "            #If obtained model was better it will be saved.\n",
    "            min_val_loss = validate_network(net, min_val_loss, e, counter)"
   ]
  },
  {
   "cell_type": "markdown",
   "metadata": {
    "colab_type": "text",
    "id": "0ReJYTIMNAM2"
   },
   "source": [
    "## Test the Network"
   ]
  },
  {
   "cell_type": "code",
   "execution_count": 983,
   "metadata": {
    "colab": {
     "base_uri": "https://localhost:8080/",
     "height": 34
    },
    "colab_type": "code",
    "id": "rEh7KYCDCY-5",
    "outputId": "52750421-246d-4758-ba41-f0ac38a6e1c6"
   },
   "outputs": [
    {
     "data": {
      "text/plain": [
       "<All keys matched successfully>"
      ]
     },
     "execution_count": 983,
     "metadata": {
      "tags": []
     },
     "output_type": "execute_result"
    }
   ],
   "source": [
    "#Load best model \n",
    "net.load_state_dict(torch.load('model.pt'))"
   ]
  },
  {
   "cell_type": "code",
   "execution_count": 0,
   "metadata": {
    "colab": {},
    "colab_type": "code",
    "id": "Op5lGg9VND3L"
   },
   "outputs": [],
   "source": [
    "# Get test data loss and accuracy\n",
    "losses = []\n",
    "pred = []\n",
    "corr = []\n",
    "\n",
    "# init hidden state\n",
    "h = net.init_hidden(batch_size)\n",
    "\n",
    "net.eval()\n",
    "for inputs, labels in test_loader:\n",
    "    # Creating new variables for the hidden state, otherwise\n",
    "    # we'd backprop through the entire training history\n",
    "    h = tuple([each.data for each in h])\n",
    "\n",
    "    #Use GPU if present\n",
    "    inputs, labels = inputs.to(device), labels.to(device)\n",
    "    \n",
    "    # get predicted outputs\n",
    "    output, h = net(inputs, h)\n",
    "    \n",
    "    # calculate loss\n",
    "    test_loss = criterion(output, labels.float())\n",
    "    losses.append(test_loss.item())\n",
    "    \n",
    "    # convert output probabilities to predicted class and encode labels for comp\n",
    "    corr = corr + torch.argmax(labels,dim=1).tolist()\n",
    "    pred = pred + torch.argmax(output,dim=1).tolist()  "
   ]
  },
  {
   "cell_type": "code",
   "execution_count": 985,
   "metadata": {
    "colab": {
     "base_uri": "https://localhost:8080/",
     "height": 596
    },
    "colab_type": "code",
    "id": "NgXeMiAn6iWl",
    "outputId": "59377bf2-b3bd-4829-f3da-c08179317dba"
   },
   "outputs": [
    {
     "name": "stdout",
     "output_type": "stream",
     "text": [
      "Test loss: 0.457\n",
      "Test accuracy: 39.167\n"
     ]
    },
    {
     "data": {
      "image/png": "[encoded data removed]",
      "text/plain": [
       "<Figure size 800x600 with 2 Axes>"
      ]
     },
     "metadata": {
      "tags": []
     },
     "output_type": "display_data"
    }
   ],
   "source": [
    "#Evaluate Test\n",
    "pred_class = [classes[i] for i in pred]\n",
    "corr_class = [classes[i] for i in corr]\n",
    "\n",
    "avg_loss = np.mean(losses)\n",
    "acc = accuracy_score(pred_class, corr_class)\n",
    "\n",
    "print(\"Test loss: {:.3f}\".format(avg_loss))\n",
    "print(\"Test accuracy: {:.3f}\".format(acc*100))\n",
    "\n",
    "cm = confusion_matrix(corr_class, pred_class, labels = classes)\n",
    "f = np.sum(cm, axis =1) # scaling factor\n",
    "cm = cm / f *100\n",
    "\n",
    "#Visualization\n",
    "fig, ax = plt.subplots(figsize=(8,6), dpi = 100)\n",
    "annot_kws = {\"ha\": 'left',\"va\": 'top'}\n",
    "ax = sns.heatmap(cm, annot=True, ax = ax, fmt='.2f'); #annot=True to annotate cells\n",
    "\n",
    "# labels, title and ticks\n",
    "sur_names = [part.split()[1] for part in classes]\n",
    "ax.set_xlabel('Predicted labels')\n",
    "ax.set_ylabel('True labels') \n",
    "ax.set_title('Confusion Matrix') \n",
    "ax.xaxis.set_ticklabels(sur_names)\n",
    "ax.yaxis.set_ticklabels(sur_names);\n",
    "\n",
    "for t in ax.texts: t.set_text(t.get_text()  + \" %\")"
   ]
  }
 ],
 "metadata": {
  "accelerator": "GPU",
  "colab": {
   "collapsed_sections": [],
   "name": "RecurentNeuralNetClassif.ipynb",
   "provenance": [],
   "toc_visible": true
  },
  "kernelspec": {
   "display_name": "Python 3",
   "language": "python",
   "name": "python3"
  },
  "language_info": {
   "codemirror_mode": {
    "name": "ipython",
    "version": 3
   },
   "file_extension": ".py",
   "mimetype": "text/x-python",
   "name": "python",
   "nbconvert_exporter": "python",
   "pygments_lexer": "ipython3",
   "version": "3.7.3"
  }
 },
 "nbformat": 4,
 "nbformat_minor": 1
}
